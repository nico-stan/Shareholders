{
 "cells": [
  {
   "cell_type": "markdown",
   "id": "46b72962",
   "metadata": {},
   "source": [
    "Import Libraries"
   ]
  },
  {
   "cell_type": "code",
   "execution_count": 1,
   "id": "a1b5d6d8",
   "metadata": {},
   "outputs": [],
   "source": [
    "import matplotlib.pyplot as plt\n",
    "import numpy as np\n",
    "import pandas as pd\n",
    "import seaborn as sns"
   ]
  },
  {
   "cell_type": "code",
   "execution_count": 2,
   "id": "ebebce94",
   "metadata": {},
   "outputs": [],
   "source": [
    "#Some configuration for matplotlib and seaborn to look pretty\n",
    "%matplotlib inline\n",
    "%config Inlinebackend.figure_format= 'retina'\n",
    "sns.set_context(\"poster\")\n",
    "sns.set(rc={\"figure.figsize\": (18.,9.)})\n",
    "sns.set_style(\"whitegrid\")\n",
    "SMALL_SIZE = 18\n",
    "MEDIUM_SIZE = 20\n",
    "BIGGER_SIZE = 30\n",
    "plt.rc('font', size=SMALL_SIZE)          # controls default text sizes\n",
    "plt.rc('axes', titlesize=MEDIUM_SIZE)     # fontsize of the axes title\n",
    "plt.rc('axes', labelsize=SMALL_SIZE)    # fontsize of the x and y labels\n",
    "plt.rc('xtick', labelsize=SMALL_SIZE)    # fontsize of the tick labels\n",
    "plt.rc('ytick', labelsize=SMALL_SIZE)    # fontsize of the tick labels\n",
    "plt.rc('legend', fontsize=SMALL_SIZE)    # legend fontsize\n",
    "plt.rc('figure', titlesize=BIGGER_SIZE)  # fontsize of the figure title"
   ]
  },
  {
   "cell_type": "markdown",
   "id": "972cb05d",
   "metadata": {},
   "source": [
    "Read the file and explore the dataset."
   ]
  },
  {
   "cell_type": "code",
   "execution_count": 3,
   "id": "a448133f",
   "metadata": {},
   "outputs": [],
   "source": [
    "df = pd.read_csv('Empresas 2-50M EBITDA.csv')"
   ]
  },
  {
   "cell_type": "code",
   "execution_count": 4,
   "id": "11e8050f",
   "metadata": {},
   "outputs": [
    {
     "data": {
      "text/html": [
       "<div>\n",
       "<style scoped>\n",
       "    .dataframe tbody tr th:only-of-type {\n",
       "        vertical-align: middle;\n",
       "    }\n",
       "\n",
       "    .dataframe tbody tr th {\n",
       "        vertical-align: top;\n",
       "    }\n",
       "\n",
       "    .dataframe thead th {\n",
       "        text-align: right;\n",
       "    }\n",
       "</style>\n",
       "<table border=\"1\" class=\"dataframe\">\n",
       "  <thead>\n",
       "    <tr style=\"text-align: right;\">\n",
       "      <th></th>\n",
       "      <th>Num</th>\n",
       "      <th>Nombre</th>\n",
       "      <th>Código NIF</th>\n",
       "      <th>Localidad</th>\n",
       "      <th>País</th>\n",
       "      <th>Código consolidación</th>\n",
       "      <th>Ultimo año disponible</th>\n",
       "      <th>Ingresos 2021</th>\n",
       "      <th>EBITDA 2021</th>\n",
       "      <th>Código primario CNAE 2009</th>\n",
       "      <th>...</th>\n",
       "      <th>Descripción actividad</th>\n",
       "      <th>Nombre accionista</th>\n",
       "      <th>Accionista - Apellido</th>\n",
       "      <th>Accionista - Nombre</th>\n",
       "      <th>Accionista - Tipo</th>\n",
       "      <th>Accionista - % directo</th>\n",
       "      <th>GUO - Nombre</th>\n",
       "      <th>GUO - Nombre.1</th>\n",
       "      <th>GUO - Ciudad</th>\n",
       "      <th>Category</th>\n",
       "    </tr>\n",
       "  </thead>\n",
       "  <tbody>\n",
       "    <tr>\n",
       "      <th>4766</th>\n",
       "      <td>NaN</td>\n",
       "      <td>NaN</td>\n",
       "      <td>NaN</td>\n",
       "      <td>NaN</td>\n",
       "      <td>NaN</td>\n",
       "      <td>NaN</td>\n",
       "      <td>NaN</td>\n",
       "      <td>NaN</td>\n",
       "      <td>NaN</td>\n",
       "      <td>NaN</td>\n",
       "      <td>...</td>\n",
       "      <td>NaN</td>\n",
       "      <td>DSV SOLUTIONS HOLDING A/S</td>\n",
       "      <td>NaN</td>\n",
       "      <td>NaN</td>\n",
       "      <td>Empresa</td>\n",
       "      <td>-</td>\n",
       "      <td>NaN</td>\n",
       "      <td>NaN</td>\n",
       "      <td>NaN</td>\n",
       "      <td>NaN</td>\n",
       "    </tr>\n",
       "  </tbody>\n",
       "</table>\n",
       "<p>1 rows × 22 columns</p>\n",
       "</div>"
      ],
      "text/plain": [
       "      Num Nombre Código NIF Localidad País Código consolidación  \\\n",
       "4766  NaN    NaN        NaN       NaN  NaN                  NaN   \n",
       "\n",
       "      Ultimo año disponible  Ingresos 2021  EBITDA 2021  \\\n",
       "4766                    NaN            NaN          NaN   \n",
       "\n",
       "      Código primario CNAE 2009  ... Descripción actividad  \\\n",
       "4766                        NaN  ...                   NaN   \n",
       "\n",
       "              Nombre accionista Accionista - Apellido Accionista - Nombre  \\\n",
       "4766  DSV SOLUTIONS HOLDING A/S                   NaN                 NaN   \n",
       "\n",
       "     Accionista - Tipo Accionista - % directo GUO - Nombre GUO - Nombre.1  \\\n",
       "4766           Empresa                      -          NaN            NaN   \n",
       "\n",
       "     GUO - Ciudad Category  \n",
       "4766          NaN      NaN  \n",
       "\n",
       "[1 rows x 22 columns]"
      ]
     },
     "execution_count": 4,
     "metadata": {},
     "output_type": "execute_result"
    }
   ],
   "source": [
    "df.sample()"
   ]
  },
  {
   "cell_type": "code",
   "execution_count": 5,
   "id": "ef9a1b84",
   "metadata": {},
   "outputs": [
    {
     "data": {
      "text/plain": [
       "(21452, 22)"
      ]
     },
     "execution_count": 5,
     "metadata": {},
     "output_type": "execute_result"
    }
   ],
   "source": [
    "df.shape"
   ]
  },
  {
   "cell_type": "markdown",
   "id": "bc8badf6",
   "metadata": {},
   "source": [
    "The column `Accionista - % directo` comes with values with a \",\" and \".\" so we unify them to a \".\" and reformat other values (e.g. >50.00 --> 50.01)"
   ]
  },
  {
   "cell_type": "code",
   "execution_count": 6,
   "id": "462624af",
   "metadata": {},
   "outputs": [],
   "source": [
    "df['Accionista - % directo'] = df['Accionista - % directo'].apply(lambda x: str(x).replace(',','.') )\n",
    "df['Accionista - % directo'] = df['Accionista - % directo'].apply(lambda x: x[1:-1]+'1' if '>' in str(x) else x)\n"
   ]
  },
  {
   "cell_type": "markdown",
   "id": "08ed08e9",
   "metadata": {},
   "source": [
    "Decide which columns have numerical values and remove the text values (e.g.: n.d.)"
   ]
  },
  {
   "cell_type": "code",
   "execution_count": 7,
   "id": "ad038a47",
   "metadata": {},
   "outputs": [],
   "source": [
    "numeric =  ['Num', 'Ultimo año disponible', 'Ingresos 2021', 'EBITDA 2021', 'Código primario CNAE 2009',\n",
    "            'EBITDA\\nmil EUR\\nAño - 1', 'EBITDA\\nmil EUR\\nAño - 2', 'Accionista - % directo']"
   ]
  },
  {
   "cell_type": "code",
   "execution_count": 8,
   "id": "81a0582c",
   "metadata": {},
   "outputs": [],
   "source": [
    "for name in df.columns:\n",
    "    if name in numeric:\n",
    "        df[name] = pd.to_numeric(df[name], errors='coerce')"
   ]
  },
  {
   "cell_type": "code",
   "execution_count": 9,
   "id": "cda1b69b",
   "metadata": {
    "scrolled": false
   },
   "outputs": [
    {
     "data": {
      "text/plain": [
       "Num                          float64\n",
       "Nombre                        object\n",
       "Código NIF                    object\n",
       "Localidad                     object\n",
       "País                          object\n",
       "Código consolidación          object\n",
       "Ultimo año disponible        float64\n",
       "Ingresos 2021                float64\n",
       "EBITDA 2021                  float64\n",
       "Código primario CNAE 2009    float64\n",
       "EBITDA\\nmil EUR\\nAño - 1     float64\n",
       "EBITDA\\nmil EUR\\nAño - 2     float64\n",
       "Descripción actividad         object\n",
       "Nombre accionista             object\n",
       "Accionista - Apellido         object\n",
       "Accionista - Nombre           object\n",
       "Accionista - Tipo             object\n",
       "Accionista - % directo       float64\n",
       "GUO - Nombre                  object\n",
       "GUO - Nombre.1                object\n",
       "GUO - Ciudad                  object\n",
       "Category                     float64\n",
       "dtype: object"
      ]
     },
     "execution_count": 9,
     "metadata": {},
     "output_type": "execute_result"
    }
   ],
   "source": [
    "df.dtypes"
   ]
  },
  {
   "cell_type": "markdown",
   "id": "e4454bfe",
   "metadata": {},
   "source": [
    "Fill the gaps in column `Nombre` with its corresponding values and check that we didn't miss any."
   ]
  },
  {
   "cell_type": "code",
   "execution_count": 10,
   "id": "6abd3aa2",
   "metadata": {},
   "outputs": [],
   "source": [
    "for i in df.index[1:]:\n",
    "    if type(df.at[i, 'Nombre']) != str:\n",
    "        df.at[i, 'Nombre']=df.at[i-1, 'Nombre']"
   ]
  },
  {
   "cell_type": "code",
   "execution_count": 11,
   "id": "fc966348",
   "metadata": {
    "scrolled": true
   },
   "outputs": [
    {
     "data": {
      "text/plain": [
       "Num                          12753\n",
       "Nombre                           0\n",
       "Código NIF                   12753\n",
       "Localidad                    12753\n",
       "País                         12753\n",
       "Código consolidación         12753\n",
       "Ultimo año disponible        12753\n",
       "Ingresos 2021                12753\n",
       "EBITDA 2021                  12753\n",
       "Código primario CNAE 2009    12753\n",
       "EBITDA\\nmil EUR\\nAño - 1     12807\n",
       "EBITDA\\nmil EUR\\nAño - 2     12924\n",
       "Descripción actividad        12771\n",
       "Nombre accionista                0\n",
       "Accionista - Apellido        12993\n",
       "Accionista - Nombre          12993\n",
       "Accionista - Tipo              240\n",
       "Accionista - % directo        7184\n",
       "GUO - Nombre                 14044\n",
       "GUO - Nombre.1               20069\n",
       "GUO - Ciudad                 15726\n",
       "Category                     21452\n",
       "dtype: int64"
      ]
     },
     "execution_count": 11,
     "metadata": {},
     "output_type": "execute_result"
    }
   ],
   "source": [
    "df.isna().sum()"
   ]
  },
  {
   "cell_type": "markdown",
   "id": "f5344ae2",
   "metadata": {},
   "source": [
    "Use a category dictionary to simplify column `Accionista - Tipo` to Family, Corporate, Self owned or Not Disclosed. "
   ]
  },
  {
   "cell_type": "code",
   "execution_count": 12,
   "id": "130621c6",
   "metadata": {},
   "outputs": [],
   "source": [
    "dictionary_category = {\n",
    "    'Una o más personas físicas o familias' : 'Family',\n",
    "    'Accionistas privados no identificados, agregados' : 'Family',\n",
    "    'Auto participación' : 'Self owned',\n",
    "    'Autoridades públicas, Estado, Gobierno' : 'Corporate',\n",
    "    'Banco' : 'Corporate',\n",
    "    'Empleados/Administradores/Directores' : 'Family',\n",
    "    'Empresa' : 'Corporate',\n",
    "    'Empresa financiera' : 'Corporate',\n",
    "    'Firmas Private Equity' : 'Corporate',\n",
    "    'Fondos mutuos & de pensiones/Nominee/Trust/Trustee' : 'Corporate',\n",
    "    'Fundaciones/Institutos de investigación' : 'Corporate',\n",
    "    'Otros accionistas no identificados, agregados' : 'Corporate',\n",
    "    'Público (empresas que cotizan en bolsa)' : 'Corporate',\n",
    "    'Seguro' : 'Corporate',\n",
    "    'Una o más personas físicas o familias' : 'Family',\n",
    "    'Venture capital':'Corporate',\n",
    "    np.nan : 'Not Disclosed',\n",
    "}"
   ]
  },
  {
   "cell_type": "code",
   "execution_count": 13,
   "id": "ec676b8e",
   "metadata": {},
   "outputs": [],
   "source": [
    "def define_category(row):\n",
    "    return dictionary_category[row['Accionista - Tipo']]"
   ]
  },
  {
   "cell_type": "code",
   "execution_count": 14,
   "id": "800d8fa1",
   "metadata": {},
   "outputs": [],
   "source": [
    "df['Accionista - Tipo'] = df.apply(lambda x: define_category(x),axis=1)"
   ]
  },
  {
   "cell_type": "markdown",
   "id": "863bf72a",
   "metadata": {},
   "source": [
    "Create a new Dataframe `df2` to group companies and its Shareholders' type together"
   ]
  },
  {
   "cell_type": "code",
   "execution_count": 15,
   "id": "3c63f9a9",
   "metadata": {
    "scrolled": true
   },
   "outputs": [
    {
     "data": {
      "text/html": [
       "<div>\n",
       "<style scoped>\n",
       "    .dataframe tbody tr th:only-of-type {\n",
       "        vertical-align: middle;\n",
       "    }\n",
       "\n",
       "    .dataframe tbody tr th {\n",
       "        vertical-align: top;\n",
       "    }\n",
       "\n",
       "    .dataframe thead th {\n",
       "        text-align: right;\n",
       "    }\n",
       "</style>\n",
       "<table border=\"1\" class=\"dataframe\">\n",
       "  <thead>\n",
       "    <tr style=\"text-align: right;\">\n",
       "      <th></th>\n",
       "      <th>Nombre</th>\n",
       "      <th>Accionista - Tipo</th>\n",
       "      <th>counts</th>\n",
       "      <th>Accionista - % directo</th>\n",
       "      <th>Category</th>\n",
       "    </tr>\n",
       "  </thead>\n",
       "  <tbody>\n",
       "    <tr>\n",
       "      <th>9314</th>\n",
       "      <td>TRAJANO IBERIA SOCIMI SA.</td>\n",
       "      <td>Corporate</td>\n",
       "      <td>9</td>\n",
       "      <td>53.9</td>\n",
       "      <td>NaN</td>\n",
       "    </tr>\n",
       "  </tbody>\n",
       "</table>\n",
       "</div>"
      ],
      "text/plain": [
       "                         Nombre Accionista - Tipo  counts  \\\n",
       "9314  TRAJANO IBERIA SOCIMI SA.         Corporate       9   \n",
       "\n",
       "      Accionista - % directo  Category  \n",
       "9314                    53.9       NaN  "
      ]
     },
     "execution_count": 15,
     "metadata": {},
     "output_type": "execute_result"
    }
   ],
   "source": [
    "df2 = df.groupby(['Nombre','Accionista - Tipo']).size().reset_index(name='counts')\n",
    "df3 = df.groupby(['Nombre','Accionista - Tipo']).agg({'Accionista - % directo':sum}).reset_index()\n",
    "df2['Accionista - % directo'] = df3['Accionista - % directo'] \n",
    "df2['Category'] = np.nan\n",
    "df2.sample()"
   ]
  },
  {
   "cell_type": "markdown",
   "id": "5b085a47",
   "metadata": {},
   "source": [
    "Define three lists, one of all company names `companies`, another of companies with a single type of shareholder `pure` and the last one with mixed ownership `mix`"
   ]
  },
  {
   "cell_type": "code",
   "execution_count": 16,
   "id": "af7045ac",
   "metadata": {
    "scrolled": true
   },
   "outputs": [],
   "source": [
    "x = pd.DataFrame(df2.Nombre.value_counts()).reset_index()\n",
    "x = x.rename(columns={\"index\": \"Nombre\", \"Nombre\": \"counts\"})\n",
    "companies = x.Nombre.tolist()\n",
    "pure = x[x.counts==1].Nombre.tolist()\n",
    "mix = x[x.counts!=1].Nombre.tolist()"
   ]
  },
  {
   "cell_type": "code",
   "execution_count": 17,
   "id": "72a67f97",
   "metadata": {},
   "outputs": [
    {
     "name": "stdout",
     "output_type": "stream",
     "text": [
      "There are a total of 8699 companies, out of which 7520 have a single Shareholder type and 1179 have a mixed ownership.\n"
     ]
    }
   ],
   "source": [
    "print(f'There are a total of {len(companies)} companies, out of which {len(pure)} have a single Shareholder type and {len(mix)} have a mixed ownership.')"
   ]
  },
  {
   "cell_type": "markdown",
   "id": "5ab6906f",
   "metadata": {},
   "source": [
    "Assign categories for each company, first with the list of `pure` companies"
   ]
  },
  {
   "cell_type": "code",
   "execution_count": 18,
   "id": "7cdc2322",
   "metadata": {},
   "outputs": [],
   "source": [
    "def pure_category(row):\n",
    "    if row['Nombre'] in pure:\n",
    "        row['Category'] = row['Accionista - Tipo']\n",
    "    return row"
   ]
  },
  {
   "cell_type": "code",
   "execution_count": 19,
   "id": "19999b70",
   "metadata": {},
   "outputs": [],
   "source": [
    "df = df.apply(lambda x: pure_category(x),axis=1)\n",
    "df2 = df2.apply(lambda x: pure_category(x),axis=1)"
   ]
  },
  {
   "cell_type": "markdown",
   "id": "052bb575",
   "metadata": {},
   "source": [
    "Then we use the list of mixed ownership `mix` and `df2` to determine the kind of ownership these ~1200 companies have.\n",
    " - If the total ownership is less than 50% --> Assign `Category` Mix: Other\n",
    " - If any grouped ownership is over 50% --> Assign `Category` Mix: Mostly [...] with its corresponding majority."
   ]
  },
  {
   "cell_type": "code",
   "execution_count": 20,
   "id": "30c2195e",
   "metadata": {},
   "outputs": [],
   "source": [
    "for name in mix:\n",
    "    total = sum(df2[df2.Nombre==name]['Accionista - % directo'])\n",
    "    if total<50:\n",
    "        df2.loc[df2['Nombre']== name, 'Category'] = 'Mix: Other'\n",
    "\n",
    "    else:\n",
    "        category = 'Mix: Other'\n",
    "        for ownership in df2[df2.Nombre==name]['Accionista - % directo']:\n",
    "            if ownership>=50:\n",
    "                category = f\"Mix: Mostly {df2.loc[(df2['Nombre']== name)&(df2['Accionista - % directo']== ownership),'Accionista - Tipo'].values[0]}\"\n",
    "        df2.loc[df2['Nombre']== name, 'Category'] = category"
   ]
  },
  {
   "cell_type": "markdown",
   "id": "1ffac526",
   "metadata": {},
   "source": [
    "Check to see we didn't miss any of the 8699 companies"
   ]
  },
  {
   "cell_type": "code",
   "execution_count": 21,
   "id": "49d17266",
   "metadata": {},
   "outputs": [
    {
     "data": {
      "text/plain": [
       "Corporate                5734\n",
       "Family                   1534\n",
       "Mix: Mostly Corporate    1461\n",
       "Mix: Other                589\n",
       "Mix: Mostly Family        439\n",
       "Not Disclosed             240\n",
       "Self owned                 12\n",
       "Name: Category, dtype: int64"
      ]
     },
     "execution_count": 21,
     "metadata": {},
     "output_type": "execute_result"
    }
   ],
   "source": [
    "df2.Category.value_counts()"
   ]
  },
  {
   "cell_type": "code",
   "execution_count": 22,
   "id": "1323f8c4",
   "metadata": {
    "scrolled": true
   },
   "outputs": [
    {
     "data": {
      "text/plain": [
       "0"
      ]
     },
     "execution_count": 22,
     "metadata": {},
     "output_type": "execute_result"
    }
   ],
   "source": [
    "df2.Category.isna().sum()"
   ]
  },
  {
   "cell_type": "markdown",
   "id": "d2c40001",
   "metadata": {},
   "source": [
    "Transfer the `Category` column from `df2` to `df`"
   ]
  },
  {
   "cell_type": "code",
   "execution_count": 23,
   "id": "85339b77",
   "metadata": {},
   "outputs": [],
   "source": [
    "df['Category'] = df.apply(lambda x: df2[df2.Nombre==x.Nombre]['Category'].values[0],axis=1)"
   ]
  },
  {
   "cell_type": "markdown",
   "id": "07ab52c1",
   "metadata": {},
   "source": [
    "Recover the original values for `Accionista - Tipo` in `df`"
   ]
  },
  {
   "cell_type": "code",
   "execution_count": 24,
   "id": "77b50dfe",
   "metadata": {},
   "outputs": [],
   "source": [
    "df['Accionista - Tipo'] = pd.read_csv('Empresas 2-50M EBITDA.csv')['Accionista - Tipo']"
   ]
  },
  {
   "cell_type": "markdown",
   "id": "a226eafa",
   "metadata": {},
   "source": [
    "Show the % distribution of Type of Ownership from all companies."
   ]
  },
  {
   "cell_type": "code",
   "execution_count": 25,
   "id": "26b95eab",
   "metadata": {},
   "outputs": [
    {
     "data": {
      "text/plain": [
       "Corporate                65.92\n",
       "Family                   17.63\n",
       "Mix: Mostly Corporate     8.01\n",
       "Mix: Other                3.17\n",
       "Not Disclosed             2.76\n",
       "Mix: Mostly Family        2.37\n",
       "Self owned                0.14\n",
       "Name: Category, dtype: float64"
      ]
     },
     "execution_count": 25,
     "metadata": {},
     "output_type": "execute_result"
    }
   ],
   "source": [
    "round(df2.groupby(['Nombre','Category']).size().reset_index(name='counts')['Category'].value_counts()/len(companies)*100,2)"
   ]
  },
  {
   "cell_type": "markdown",
   "id": "1c581551",
   "metadata": {},
   "source": [
    "Export the results to an excel file"
   ]
  },
  {
   "cell_type": "code",
   "execution_count": 26,
   "id": "11307880",
   "metadata": {},
   "outputs": [],
   "source": [
    "df.to_excel('Companies 2-50M EBITDA.xlsx')"
   ]
  }
 ],
 "metadata": {
  "kernelspec": {
   "display_name": "Python 3 (ipykernel)",
   "language": "python",
   "name": "python3"
  },
  "language_info": {
   "codemirror_mode": {
    "name": "ipython",
    "version": 3
   },
   "file_extension": ".py",
   "mimetype": "text/x-python",
   "name": "python",
   "nbconvert_exporter": "python",
   "pygments_lexer": "ipython3",
   "version": "3.9.12"
  }
 },
 "nbformat": 4,
 "nbformat_minor": 5
}
